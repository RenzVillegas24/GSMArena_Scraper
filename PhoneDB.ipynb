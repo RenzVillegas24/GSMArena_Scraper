{
 "cells": [
  {
   "cell_type": "code",
   "execution_count": 1,
   "metadata": {},
   "outputs": [],
   "source": [
    "import requests as rq\n",
    "import csv\n",
    "import bs4\n",
    "import datetime\n",
    "from urllib.parse import quote\n",
    "import pandas as pd"
   ]
  },
  {
   "cell_type": "code",
   "execution_count": 2,
   "metadata": {},
   "outputs": [
    {
     "name": "stderr",
     "output_type": "stream",
     "text": [
      "c:\\Users\\RenzCute\\AppData\\Local\\Programs\\Python\\Python310\\lib\\site-packages\\bs4\\builder\\__init__.py:545: XMLParsedAsHTMLWarning: It looks like you're parsing an XML document using an HTML parser. If this really is an HTML document (maybe it's XHTML?), you can ignore or filter this warning. If it's XML, you should know that using an XML parser will be more reliable. To parse this document as XML, make sure you have the lxml package installed, and pass the keyword argument `features=\"xml\"` into the BeautifulSoup constructor.\n",
      "  warnings.warn(\n"
     ]
    },
    {
     "name": "stdout",
     "output_type": "stream",
     "text": [
      "There are 9997 devices to scrape\n"
     ]
    }
   ],
   "source": [
    "google_cache = r\"http://webcache.googleusercontent.com/search?q=cache:\"\n",
    "device_list = r\"https://phonedb.net/sitemap/\"\n",
    "\n",
    "\n",
    "#get the xml file from the sitemap\n",
    "\n",
    "sitemap = rq.get(device_list)\n",
    "soup = bs4.BeautifulSoup(sitemap.text, \"lxml\")\n",
    "# get only devices from the sitemap which is 2017-12-30T22:10:18+01:00 and newer using the lastmod tag\n",
    "\n",
    "locs = []\n",
    "for url in soup.findAll(\"url\"):\n",
    "    # parse the lastmod tag to a string and compare it to the date\n",
    "    date = datetime.datetime.strptime(url.lastmod.text, \"%Y-%m-%dT%H:%M:%S%z\")\n",
    "    if date > datetime.datetime(2017, 12, 30, 22, 0, 0, 0, datetime.timezone.utc) and url.loc.text.startswith(\"https://phonedb.net/index.php?m=device&id=\"):\n",
    "            locs.append(url.loc.text)\n",
    "\n",
    "\n",
    "#remove the first 2 urls as they are not devices\n",
    "locs.pop(0)\n",
    "locs.pop(0)\n",
    "\n",
    "print(\"There are \" + str(len(locs)) + \" devices to scrape\")\n"
   ]
  },
  {
   "cell_type": "code",
   "execution_count": 9,
   "metadata": {},
   "outputs": [
    {
     "name": "stdout",
     "output_type": "stream",
     "text": [
      "https://phonedb.net/index.php?m=device&id=22626&c=samsung_sm-f946bds_galaxy_z_fold5_5g_global_dual_sim_td-lte_1tb__samsung_q5\n"
     ]
    }
   ],
   "source": [
    "# for devices in locs:\n",
    "device = locs[66]\n",
    "\n",
    "headers = {\n",
    "    'User-Agent': 'Mozilla/5.0 (Windows NT 10.0; Win64; x64) AppleWebKit/537.36 (KHTML, like Gecko) Chrome/112.0.0.0 Safari/537.36',\n",
    "    'Referer': 'https://www.google.com/'\n",
    "}\n",
    "\n",
    "# get the device page\n",
    "response = rq.get(f\"{google_cache}{quote(device + '&d=detailed_specs')}\", headers=headers)\n",
    "doc = bs4.BeautifulSoup(response.text, 'html.parser')\n",
    "\n",
    "print(device)"
   ]
  },
  {
   "cell_type": "code",
   "execution_count": 10,
   "metadata": {},
   "outputs": [
    {
     "data": {
      "text/html": [
       "<div>\n",
       "<style scoped>\n",
       "    .dataframe tbody tr th:only-of-type {\n",
       "        vertical-align: middle;\n",
       "    }\n",
       "\n",
       "    .dataframe tbody tr th {\n",
       "        vertical-align: top;\n",
       "    }\n",
       "\n",
       "    .dataframe thead th {\n",
       "        text-align: right;\n",
       "    }\n",
       "</style>\n",
       "<table border=\"1\" class=\"dataframe\">\n",
       "  <thead>\n",
       "    <tr style=\"text-align: right;\">\n",
       "      <th></th>\n",
       "      <th>0</th>\n",
       "      <th>1</th>\n",
       "    </tr>\n",
       "  </thead>\n",
       "  <tbody>\n",
       "    <tr>\n",
       "      <th>0</th>\n",
       "      <td>Introduction:</td>\n",
       "      <td>Introduction:</td>\n",
       "    </tr>\n",
       "    <tr>\n",
       "      <th>1</th>\n",
       "      <td>Brand</td>\n",
       "      <td>Samsung</td>\n",
       "    </tr>\n",
       "    <tr>\n",
       "      <th>2</th>\n",
       "      <td>Model</td>\n",
       "      <td>SM-F946B/DS Galaxy Z Fold5 5G Global Dual SIM ...</td>\n",
       "    </tr>\n",
       "    <tr>\n",
       "      <th>3</th>\n",
       "      <td>Brief Galaxy Z Fold5 lives up to its name by f...</td>\n",
       "      <td>Brief Galaxy Z Fold5 lives up to its name by f...</td>\n",
       "    </tr>\n",
       "    <tr>\n",
       "      <th>4</th>\n",
       "      <td>Released</td>\n",
       "      <td>2023 Aug 11</td>\n",
       "    </tr>\n",
       "    <tr>\n",
       "      <th>...</th>\n",
       "      <td>...</td>\n",
       "      <td>...</td>\n",
       "    </tr>\n",
       "    <tr>\n",
       "      <th>243</th>\n",
       "      <td>Price</td>\n",
       "      <td>3149</td>\n",
       "    </tr>\n",
       "    <tr>\n",
       "      <th>244</th>\n",
       "      <td>NaN</td>\n",
       "      <td>Australian Dollar</td>\n",
       "    </tr>\n",
       "    <tr>\n",
       "      <th>245</th>\n",
       "      <td>Datasheet Attributes:</td>\n",
       "      <td>Datasheet Attributes:</td>\n",
       "    </tr>\n",
       "    <tr>\n",
       "      <th>246</th>\n",
       "      <td>Data Integrity</td>\n",
       "      <td>Final</td>\n",
       "    </tr>\n",
       "    <tr>\n",
       "      <th>247</th>\n",
       "      <td>Added</td>\n",
       "      <td>2024-01-01 12:03</td>\n",
       "    </tr>\n",
       "  </tbody>\n",
       "</table>\n",
       "<p>248 rows × 2 columns</p>\n",
       "</div>"
      ],
      "text/plain": [
       "                                                     0  \\\n",
       "0                                        Introduction:   \n",
       "1                                                Brand   \n",
       "2                                                Model   \n",
       "3    Brief Galaxy Z Fold5 lives up to its name by f...   \n",
       "4                                             Released   \n",
       "..                                                 ...   \n",
       "243                                              Price   \n",
       "244                                                NaN   \n",
       "245                              Datasheet Attributes:   \n",
       "246                                     Data Integrity   \n",
       "247                                              Added   \n",
       "\n",
       "                                                     1  \n",
       "0                                        Introduction:  \n",
       "1                                              Samsung  \n",
       "2    SM-F946B/DS Galaxy Z Fold5 5G Global Dual SIM ...  \n",
       "3    Brief Galaxy Z Fold5 lives up to its name by f...  \n",
       "4                                          2023 Aug 11  \n",
       "..                                                 ...  \n",
       "243                                               3149  \n",
       "244                                  Australian Dollar  \n",
       "245                              Datasheet Attributes:  \n",
       "246                                              Final  \n",
       "247                                   2024-01-01 12:03  \n",
       "\n",
       "[248 rows x 2 columns]"
      ]
     },
     "execution_count": 10,
     "metadata": {},
     "output_type": "execute_result"
    }
   ],
   "source": [
    "# get all the td in which the td does not have colspan=2\n",
    "# get the tr not the td \n",
    "\n",
    "# use pandas to get the table \".canvas table\"\n",
    "table = doc.select_one(\".canvas table\")\n",
    "df = pd.read_html(str(table))[0]\n",
    "\n",
    "# convert the table to a dataframe\n",
    "\n",
    "df"
   ]
  },
  {
   "cell_type": "code",
   "execution_count": null,
   "metadata": {},
   "outputs": [],
   "source": []
  }
 ],
 "metadata": {
  "kernelspec": {
   "display_name": "Python 3",
   "language": "python",
   "name": "python3"
  },
  "language_info": {
   "codemirror_mode": {
    "name": "ipython",
    "version": 3
   },
   "file_extension": ".py",
   "mimetype": "text/x-python",
   "name": "python",
   "nbconvert_exporter": "python",
   "pygments_lexer": "ipython3",
   "version": "3.10.0"
  }
 },
 "nbformat": 4,
 "nbformat_minor": 2
}
