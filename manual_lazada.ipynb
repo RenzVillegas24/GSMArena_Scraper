{
 "cells": [
  {
   "cell_type": "code",
   "execution_count": 23,
   "metadata": {},
   "outputs": [
    {
     "name": "stdout",
     "output_type": "stream",
     "text": [
      "Requirement already satisfied: json_repair in c:\\users\\renzcute\\anaconda3\\lib\\site-packages (0.8.0)\n",
      "Note: you may need to restart the kernel to use updated packages.\n",
      "Requirement already satisfied: beautifulsoup4 in c:\\users\\renzcute\\anaconda3\\lib\\site-packages (4.12.2)\n",
      "Requirement already satisfied: soupsieve>1.2 in c:\\users\\renzcute\\anaconda3\\lib\\site-packages (from beautifulsoup4) (2.4)\n",
      "Note: you may need to restart the kernel to use updated packages.\n",
      "Requirement already satisfied: urllib3 in c:\\users\\renzcute\\anaconda3\\lib\\site-packages (1.26.16)\n",
      "Note: you may need to restart the kernel to use updated packages.\n"
     ]
    }
   ],
   "source": [
    "%pip install json_repair\n",
    "%pip install beautifulsoup4\n",
    "%pip install urllib3"
   ]
  },
  {
   "cell_type": "code",
   "execution_count": 44,
   "metadata": {},
   "outputs": [
    {
     "name": "stdout",
     "output_type": "stream",
     "text": [
      "Processing Lazada entries...\n",
      "URL: https://www.lazada.com.ph/shop-mobiles/?ajax=true&q=Allview%20V4%20Viper&service=official\n",
      "[INFO]: Phone Allview V4 Viper not in Lazada.\n",
      "Processing Lazada entries...\n",
      "URL: https://www.lazada.com.ph/shop-mobiles/?ajax=true&q=vivo%20iQOO%205%20Pro%205G&service=official\n"
     ]
    },
    {
     "ename": "TypeError",
     "evalue": "string indices must be integers, not 'str'",
     "output_type": "error",
     "traceback": [
      "\u001b[1;31m---------------------------------------------------------------------------\u001b[0m",
      "\u001b[1;31mTypeError\u001b[0m                                 Traceback (most recent call last)",
      "Cell \u001b[1;32mIn[44], line 341\u001b[0m\n\u001b[0;32m    338\u001b[0m \u001b[38;5;28;01mwith\u001b[39;00m \u001b[38;5;28mopen\u001b[39m(\u001b[38;5;124m'\u001b[39m\u001b[38;5;124mlazada_out.json\u001b[39m\u001b[38;5;124m'\u001b[39m, \u001b[38;5;124m'\u001b[39m\u001b[38;5;124mr\u001b[39m\u001b[38;5;124m'\u001b[39m) \u001b[38;5;28;01mas\u001b[39;00m file:\n\u001b[0;32m    339\u001b[0m     data_out \u001b[38;5;241m=\u001b[39m json_repair\u001b[38;5;241m.\u001b[39mloads(file\u001b[38;5;241m.\u001b[39mread())\n\u001b[1;32m--> 341\u001b[0m \u001b[38;5;28;01mif\u001b[39;00m \u001b[38;5;28mlen\u001b[39m(json_laz[\u001b[38;5;124m'\u001b[39m\u001b[38;5;124mmods\u001b[39m\u001b[38;5;124m'\u001b[39m][\u001b[38;5;124m'\u001b[39m\u001b[38;5;124mlistItems\u001b[39m\u001b[38;5;124m'\u001b[39m]):\n\u001b[0;32m    342\u001b[0m     item \u001b[38;5;241m=\u001b[39m json_laz[\u001b[38;5;124m'\u001b[39m\u001b[38;5;124mmods\u001b[39m\u001b[38;5;124m'\u001b[39m][\u001b[38;5;124m'\u001b[39m\u001b[38;5;124mlistItems\u001b[39m\u001b[38;5;124m'\u001b[39m][\u001b[38;5;241m0\u001b[39m]\n\u001b[0;32m    343\u001b[0m     \u001b[38;5;28;01mif\u001b[39;00m \u001b[38;5;28mall\u001b[39m([word\u001b[38;5;241m.\u001b[39mlower() \u001b[38;5;129;01min\u001b[39;00m json_laz[\u001b[38;5;124m'\u001b[39m\u001b[38;5;124mmods\u001b[39m\u001b[38;5;124m'\u001b[39m][\u001b[38;5;124m'\u001b[39m\u001b[38;5;124mlistItems\u001b[39m\u001b[38;5;124m'\u001b[39m][\u001b[38;5;241m0\u001b[39m][\u001b[38;5;124m'\u001b[39m\u001b[38;5;124mname\u001b[39m\u001b[38;5;124m'\u001b[39m]\u001b[38;5;241m.\u001b[39mlower() \u001b[38;5;28;01mfor\u001b[39;00m word \u001b[38;5;129;01min\u001b[39;00m cur_phone\u001b[38;5;241m.\u001b[39msplit()]):\n",
      "\u001b[1;31mTypeError\u001b[0m: string indices must be integers, not 'str'"
     ]
    }
   ],
   "source": [
    "import bs4\n",
    "from json_repair import json_repair\n",
    "import json, os\n",
    "from urllib.parse import quote\n",
    "\n",
    "\n",
    "cur_phone = input('Phone Name: ')\n",
    "# get only devices from the sitemap which is 2017-12-30T22:10:18+01:00 and newer using the lastmod tag\n",
    "\n",
    "print(\"Processing Lazada entries...\")\n",
    "\n",
    "lazada = f\"https://www.lazada.com.ph/shop-mobiles/?ajax=true&q={quote(cur_phone)}\"\n",
    "print(f\"URL: {lazada}\")\n",
    "\n",
    "# some of the pages has broken json, so we need to repair it\n",
    "json_laz = json_repair.loads(input(\"Lazada Json: \"))\n",
    "\n",
    "data_out = None\n",
    "\n",
    "# check if file present\n",
    "if not os.path.isfile('lazada_out.json'):\n",
    "    with open('lazada_out.json', 'w') as file:\n",
    "        json.dump({}, file)\n",
    "\n",
    "with open('lazada_out.json', 'r') as file:\n",
    "    data_out = json_repair.loads(file.read())\n",
    "\n",
    "if len(json_laz['mods']['listItems']):\n",
    "    item = json_laz['mods']['listItems'][0]\n",
    "    if all([word.lower() in json_laz['mods']['listItems'][0]['name'].lower() for word in cur_phone.split()]):\n",
    "        if item.get('price') is None:\n",
    "            item['price'] = 'Unknown'\n",
    "        if item.get('originalPrice') is None:\n",
    "            item['originalPrice'] = item['price']\n",
    "        if item.get('review') is None:\n",
    "            item['review'] = 'Unknown'\n",
    "        if item.get('ratingScore') is None:\n",
    "            item['ratingScore'] = 'Unknown'\n",
    "        if item.get('itemUrl') is None:\n",
    "            item['itemUrl'] = 'Unknown'\n",
    "\n",
    "\n",
    "        if data_out is None:\n",
    "            data_out =  {\n",
    "                cur_phone : {\n",
    "                    'URL': item['itemUrl'], \n",
    "                    'Ratings': item['ratingScore'],\n",
    "                    'Reviews': item['review'],\n",
    "                    'Price': item['price'], \n",
    "                    'Original Price': item['originalPrice']\n",
    "                    }\n",
    "                }\n",
    "            \n",
    "        else:\n",
    "            data_out[cur_phone] = {\n",
    "                'URL': item['itemUrl'], \n",
    "                'Ratings': item['ratingScore'],\n",
    "                'Reviews': item['review'],\n",
    "                'Price': item['price'], \n",
    "                'Original Price': item['originalPrice']\n",
    "                }\n",
    "\n",
    "        print(f'[INFO]: Phone {cur_phone} in Lazada.')\n",
    "    else:\n",
    "        data_out[cur_phone] = {}\n",
    "        print(f'[INFO]: Phone {cur_phone} not in Lazada.')\n",
    "\n",
    "else:\n",
    "    data_out[cur_phone] = {}\n",
    "    print(f'[INFO]: Phone {cur_phone} not in Lazada.')\n",
    "\n",
    "\n",
    "\n",
    "with open('lazada_out.json', 'w') as file:\n",
    "    json.dump(data_out, file, indent=1)"
   ]
  }
 ],
 "metadata": {
  "kernelspec": {
   "display_name": "base",
   "language": "python",
   "name": "python3"
  },
  "language_info": {
   "codemirror_mode": {
    "name": "ipython",
    "version": 3
   },
   "file_extension": ".py",
   "mimetype": "text/x-python",
   "name": "python",
   "nbconvert_exporter": "python",
   "pygments_lexer": "ipython3",
   "version": "0.0.0"
  }
 },
 "nbformat": 4,
 "nbformat_minor": 2
}
