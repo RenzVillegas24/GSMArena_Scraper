{
 "cells": [
  {
   "cell_type": "code",
   "execution_count": 23,
   "metadata": {},
   "outputs": [
    {
     "name": "stdout",
     "output_type": "stream",
     "text": [
      "Requirement already satisfied: json_repair in c:\\users\\renzcute\\anaconda3\\lib\\site-packages (0.8.0)\n",
      "Note: you may need to restart the kernel to use updated packages.\n",
      "Requirement already satisfied: beautifulsoup4 in c:\\users\\renzcute\\anaconda3\\lib\\site-packages (4.12.2)\n",
      "Requirement already satisfied: soupsieve>1.2 in c:\\users\\renzcute\\anaconda3\\lib\\site-packages (from beautifulsoup4) (2.4)\n",
      "Note: you may need to restart the kernel to use updated packages.\n",
      "Requirement already satisfied: urllib3 in c:\\users\\renzcute\\anaconda3\\lib\\site-packages (1.26.16)\n",
      "Note: you may need to restart the kernel to use updated packages.\n"
     ]
    }
   ],
   "source": [
    "%pip install json_repair\n",
    "%pip install beautifulsoup4\n",
    "%pip install urllib3"
   ]
  },
  {
   "cell_type": "code",
   "execution_count": 24,
   "metadata": {},
   "outputs": [
    {
     "name": "stdout",
     "output_type": "stream",
     "text": [
      "Processing Lazada entries...\n",
      "URL: https://www.lazada.com.ph/shop-mobiles/?ajax=true&q=Asus%20Zenfone%209&service=official\n",
      "[INFO]: Phone Asus Zenfone 9 in Lazada.\n"
     ]
    }
   ],
   "source": [
    "import bs4\n",
    "from json_repair import json_repair\n",
    "import json, os\n",
    "from urllib.parse import quote\n",
    "\n",
    "\n",
    "cur_phone = input('Phone Name: ')\n",
    "\n",
    "# get only devices from the sitemap which is 2017-12-30T22:10:18+01:00 and newer using the lastmod tag\n",
    "\n",
    "print(\"Processing Lazada entries...\")\n",
    "\n",
    "lazada = f\"https://www.lazada.com.ph/shop-mobiles/?ajax=true&q={quote(cur_phone)}&service=official\"\n",
    "print(f\"URL: {lazada}\")\n",
    "\n",
    "# some of the pages has broken json, so we need to repair it\n",
    "json_laz = json_repair.loads(input(\"Lazada Json: \"))\n",
    "\n",
    "item = json_laz['mods']['listItems'][0]\n",
    "data_out = None\n",
    "\n",
    "# check if file present\n",
    "if not os.path.isfile('lazada_out.json'):\n",
    "    with open('lazada_out.json', 'w') as file:\n",
    "        json.dump({}, file)\n",
    "\n",
    "with open('lazada_out.json', 'r') as file:\n",
    "    data_out = json_repair.loads(file.read())\n",
    "if any([word.lower() in json_laz['mods']['listItems'][0]['name'].lower() for word in cur_phone.split()]):\n",
    "    \n",
    "    if item.get('price') is None:\n",
    "        item['price'] = 'Unknown'\n",
    "    if item.get('originalPrice') is None:\n",
    "        item['originalPrice'] = item['price']\n",
    "    if item.get('review') is None:\n",
    "        item['review'] = 'Unknown'\n",
    "    if item.get('ratingScore') is None:\n",
    "        item['ratingScore'] = 'Unknown'\n",
    "    if item.get('itemUrl') is None:\n",
    "        item['itemUrl'] = 'Unknown'\n",
    "\n",
    "\n",
    "    if data_out is None:\n",
    "        data_out =  {\n",
    "            cur_phone : {\n",
    "                'URL': item['itemUrl'], \n",
    "                'Ratings': item['ratingScore'],\n",
    "                'Reviews': item['review'],\n",
    "                'Price': item['price'], \n",
    "                'Original Price': item['originalPrice']\n",
    "                }\n",
    "            }\n",
    "        \n",
    "    else:\n",
    "        data_out[cur_phone] = {\n",
    "            'URL': item['itemUrl'], \n",
    "            'Ratings': item['ratingScore'],\n",
    "            'Reviews': item['review'],\n",
    "            'Price': item['price'], \n",
    "            'Original Price': item['originalPrice']\n",
    "            }\n",
    "\n",
    "    print(f'[INFO]: Phone {cur_phone} in Lazada.')\n",
    "else:\n",
    "    data_out[cur_phone] = {}\n",
    "    print(f'[INFO]: Phone {cur_phone} not in Lazada.')\n",
    "\n",
    "\n",
    "\n",
    "with open('lazada_out.json', 'w') as file:\n",
    "    json.dump(data_out, file, indent=1)"
   ]
  }
 ],
 "metadata": {
  "kernelspec": {
   "display_name": "base",
   "language": "python",
   "name": "python3"
  },
  "language_info": {
   "codemirror_mode": {
    "name": "ipython",
    "version": 3
   },
   "file_extension": ".py",
   "mimetype": "text/x-python",
   "name": "python",
   "nbconvert_exporter": "python",
   "pygments_lexer": "ipython3",
   "version": "3.11.5"
  }
 },
 "nbformat": 4,
 "nbformat_minor": 2
}
